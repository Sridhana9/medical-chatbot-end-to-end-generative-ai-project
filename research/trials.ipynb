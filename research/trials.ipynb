%pwd
from langchain_community.llms import HuggingFaceHub
import os

# Set your Hugging Face API key
os.environ["HUGGINGFACEHUB_API_TOKEN"] = HUGGINGFACEHUB_API_TOKEN

# Load Mistral-7B-Instruct from Hugging Face
llm = HuggingFaceHub(
    repo_id="mistralai/Mistral-Nemo-Instruct-2407",  # ✅ Corrected model ID
    model_kwargs={"temperature": 0.4, "max_new_tokens": 500},
    task="text-generation"
)

from langchain.chains import create_retrieval_chain
from langchain.chains.combine_documents import create_stuff_documents_chain
from langchain_core.prompts import ChatPromptTemplate


system_prompt = (
    "You are an assistant for question-answering tasks. "
    "Use the following pieces of retrieved context to answer the question. "
    "Avoid repeating information. If you don't know the answer, say that you don't know. "
    "Use three sentences maximum and keep the answer concise."
    "\n\n"
    "{context}"
)




prompt = ChatPromptTemplate.from_messages(
    [
        ("system", system_prompt),
        ("human", "{input}"),
    ]
)
question_answer_chain = create_stuff_documents_chain(llm, prompt)
rag_chain = create_retrieval_chain(retriever, question_answer_chain)
response = rag_chain.invoke({"input": "my symptoms are pimples on face what are the causes"})
print(response["answer"])
